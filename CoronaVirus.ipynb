{
  "nbformat": 4,
  "nbformat_minor": 0,
  "metadata": {
    "colab": {
      "name": "CoronaVirus.ipynb",
      "provenance": [],
      "authorship_tag": "ABX9TyPfF7Bnxlkx5dPhT49pz0lR",
      "include_colab_link": true
    },
    "kernelspec": {
      "name": "python3",
      "display_name": "Python 3"
    }
  },
  "cells": [
    {
      "cell_type": "markdown",
      "metadata": {
        "id": "view-in-github",
        "colab_type": "text"
      },
      "source": [
        "<a href=\"https://colab.research.google.com/github/alex75it/TensorFlow-CoronaVirus/blob/master/CoronaVirus.ipynb\" target=\"_parent\"><img src=\"https://colab.research.google.com/assets/colab-badge.svg\" alt=\"Open In Colab\"/></a>"
      ]
    },
    {
      "cell_type": "markdown",
      "metadata": {
        "id": "D5-OT02Kjnor",
        "colab_type": "text"
      },
      "source": [
        "# Coronavirus\n",
        "\n",
        "## Data sources\n",
        "\n",
        "\n",
        "https://github.com/CSSEGISandData/COVID-19/tree/master/csse_covid_19_data/csse_covid_19_time_series\n"
      ]
    },
    {
      "cell_type": "code",
      "metadata": {
        "id": "4Dk3sKlFjmKX",
        "colab_type": "code",
        "colab": {}
      },
      "source": [
        "# "
      ],
      "execution_count": 0,
      "outputs": []
    }
  ]
}